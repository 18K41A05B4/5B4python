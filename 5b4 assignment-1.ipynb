{
 "cells": [
  {
   "cell_type": "code",
   "execution_count": 1,
   "metadata": {},
   "outputs": [
    {
     "name": "stdout",
     "output_type": "stream",
     "text": [
      "enter year:2020\n",
      "rat\n"
     ]
    }
   ],
   "source": [
    "#1.Develop a code for below scenario.\n",
    "\n",
    "y=int(input(\"enter year:\"))\n",
    "r=y%12\n",
    "d={0:\"monkey\",1:\"rooster\",2:\"dog\",3:\"pig\",4:\"rat\",5:\"ox\",6:\"tiger\",7:\"rabbit\",8:\"dragon\",9:\"snake\",10:\"horse\",11:\"sheep\"}\n",
    "print(d[r])"
   ]
  },
  {
   "cell_type": "code",
   "execution_count": 61,
   "metadata": {},
   "outputs": [
    {
     "name": "stdout",
     "output_type": "stream",
     "text": [
      "distance to be travel:560\n",
      "weight of the goods:50\n",
      "amount to be charged: 3360\n"
     ]
    }
   ],
   "source": [
    "#2.\tA Quick Fox Transport Co. wants to develop an application for calculating amount based on distance and weight of goods. \n",
    "#The charges (Amount) to be calculated as per rates given below. \n",
    "    a=int(input(\"distance to be travel:\"))\n",
    "    b=int(input(\"weight of the goods:\"))\n",
    "    if a>=500:\n",
    "        if b>=100:\n",
    "            c=a*5\n",
    "        elif b>=10 and b<=100:\n",
    "            c=a*6\n",
    "        else: \n",
    "            c=a*7\n",
    "    elif a<500: \n",
    "        if b>=100:\n",
    "            c=a*8\n",
    "        else:\n",
    "            c=a*5\n",
    "    print(\"amount to be charged:\",c)\n",
    "      \n",
    "    "
   ]
  },
  {
   "cell_type": "code",
   "execution_count": 6,
   "metadata": {},
   "outputs": [
    {
     "name": "stdout",
     "output_type": "stream",
     "text": [
      "amount of water:15\n",
      "initial temperature:35\n",
      "final temperature:85\n",
      "3138000 joules\n"
     ]
    }
   ],
   "source": [
    "#4.\tDevelop a program that calculates the energy needed to heat water from an initial temperature to a final temperature. Your program should prompt the user to enter the amount of water in kilograms and the initial and final temperatures of the water. The formula to compute the energy is \n",
    "        #Q = M * (finalTemperature – initialTemperature) * 4184.\n",
    "       #where M is the weight of water in kilograms, temperatures are in degrees Celsius,  and energy Q is measured in joules.\n",
    "    \n",
    "\n",
    "m=int(input(\"amount of water:\"))\n",
    "i=int(input(\"initial temperature:\"))\n",
    "f=int(input(\"final temperature:\"))\n",
    "t=f-i\n",
    "Q=m*t*4184\n",
    "print(Q,\"joules\")"
   ]
  },
  {
   "cell_type": "code",
   "execution_count": 3,
   "metadata": {},
   "outputs": [
    {
     "name": "stdout",
     "output_type": "stream",
     "text": [
      "enter month:january\n",
      "Autumn\n"
     ]
    }
   ],
   "source": [
    "#5.\tDevelop a program that prompts user to enter month and  print \n",
    "#a.\t“Winter ” -   December ,January and February\n",
    "#b.\t“Spring”  -   March ,April and May\n",
    "#c.\t“Summer”  --- June ,July, August\n",
    "#d.\t“Autumn ”  -- September ,October, November\n",
    "\n",
    "z=input(\"enter month:\")\n",
    "if y==\"december\" or y==\"january\" or y==\"february\":\n",
    "    print(\"winter\")\n",
    "elif y==\"march\" or y==\"april\" or y==\"may\":\n",
    "    print(\"spring\")\n",
    "elif y==\"june\" or y==\"july\" or y==\"august\":\n",
    "    print(\"summer\")\n",
    "else:\n",
    "    print(\"Autumn\")"
   ]
  },
  {
   "cell_type": "code",
   "execution_count": 68,
   "metadata": {},
   "outputs": [
    {
     "name": "stdout",
     "output_type": "stream",
     "text": [
      "enter weight in pounds250\n",
      "enter height in inches50\n",
      "Obese\n"
     ]
    }
   ],
   "source": [
    "#6.BODY MASS INDEX.\n",
    "w=float(input(\"enter weight in pounds\"))\n",
    "h=float(input(\"enter height in inches\"))\n",
    "c=w*0.45359237\n",
    "d=h*0.0254\n",
    "BMI=c/(d*d)\n",
    "if BMI<18.5:\n",
    "    print(\"Underweight\")\n",
    "elif BMI<25.0 and BMI>=18.5:\n",
    "    print(\"Normal\")\n",
    "elif BMI<30.0 and BMI>=25.0:\n",
    "    print(\"overweight\")\n",
    "else:\n",
    "    print(\"Obese\")"
   ]
  },
  {
   "cell_type": "code",
   "execution_count": 74,
   "metadata": {},
   "outputs": [
    {
     "name": "stdout",
     "output_type": "stream",
     "text": [
      "enter number between 100 and 1000:768\n",
      "21\n"
     ]
    }
   ],
   "source": [
    "#7.\tWrite a program that reads an integer between 100 and 1000 and adds all the digits in the integer \n",
    "n=int(input(\"enter number between 100 and 1000:\"))\n",
    "s=0\n",
    "while n>0:\n",
    "    x=n%10\n",
    "    s=s+x\n",
    "    n=(n//10)\n",
    "print(s)"
   ]
  },
  {
   "cell_type": "code",
   "execution_count": 10,
   "metadata": {},
   "outputs": [
    {
     "name": "stdout",
     "output_type": "stream",
     "text": [
      "palindrome number: 0\n",
      "palindrome number: 1\n",
      "palindrome number: 2\n",
      "palindrome number: 3\n",
      "palindrome number: 4\n",
      "palindrome number: 5\n",
      "palindrome number: 6\n",
      "palindrome number: 7\n",
      "palindrome number: 8\n",
      "palindrome number: 9\n",
      "palindrome number: 11\n",
      "palindrome number: 22\n",
      "palindrome number: 33\n",
      "palindrome number: 44\n",
      "palindrome number: 55\n",
      "palindrome number: 66\n",
      "palindrome number: 77\n",
      "palindrome number: 88\n",
      "palindrome number: 99\n",
      "palindrome number: 101\n",
      "palindrome number: 111\n",
      "palindrome number: 121\n",
      "palindrome number: 131\n",
      "palindrome number: 141\n",
      "palindrome number: 151\n",
      "palindrome number: 161\n",
      "palindrome number: 171\n",
      "palindrome number: 181\n",
      "palindrome number: 191\n",
      "palindrome number: 202\n",
      "palindrome number: 212\n",
      "palindrome number: 222\n",
      "palindrome number: 232\n",
      "palindrome number: 242\n",
      "palindrome number: 252\n",
      "palindrome number: 262\n",
      "palindrome number: 272\n",
      "palindrome number: 282\n",
      "palindrome number: 292\n",
      "palindrome number: 303\n",
      "palindrome number: 313\n",
      "palindrome number: 323\n",
      "palindrome number: 333\n",
      "palindrome number: 343\n",
      "palindrome number: 353\n",
      "palindrome number: 363\n",
      "palindrome number: 373\n",
      "palindrome number: 383\n",
      "palindrome number: 393\n",
      "palindrome number: 404\n",
      "palindrome number: 414\n",
      "palindrome number: 424\n",
      "palindrome number: 434\n",
      "palindrome number: 444\n",
      "palindrome number: 454\n",
      "palindrome number: 464\n",
      "palindrome number: 474\n",
      "palindrome number: 484\n",
      "palindrome number: 494\n",
      "palindrome number: 505\n",
      "palindrome number: 515\n",
      "palindrome number: 525\n",
      "palindrome number: 535\n",
      "palindrome number: 545\n",
      "palindrome number: 555\n",
      "palindrome number: 565\n",
      "palindrome number: 575\n",
      "palindrome number: 585\n",
      "palindrome number: 595\n",
      "palindrome number: 606\n",
      "palindrome number: 616\n",
      "palindrome number: 626\n",
      "palindrome number: 636\n",
      "palindrome number: 646\n",
      "palindrome number: 656\n",
      "palindrome number: 666\n",
      "palindrome number: 676\n",
      "palindrome number: 686\n",
      "palindrome number: 696\n",
      "palindrome number: 707\n",
      "palindrome number: 717\n",
      "palindrome number: 727\n",
      "palindrome number: 737\n",
      "palindrome number: 747\n",
      "palindrome number: 757\n",
      "palindrome number: 767\n",
      "palindrome number: 777\n",
      "palindrome number: 787\n",
      "palindrome number: 797\n",
      "palindrome number: 808\n",
      "palindrome number: 818\n",
      "palindrome number: 828\n",
      "palindrome number: 838\n",
      "palindrome number: 848\n",
      "palindrome number: 858\n",
      "palindrome number: 868\n",
      "palindrome number: 878\n",
      "palindrome number: 888\n",
      "palindrome number: 898\n",
      "palindrome number: 909\n",
      "palindrome number: 919\n",
      "palindrome number: 929\n",
      "palindrome number: 939\n",
      "palindrome number: 949\n",
      "palindrome number: 959\n",
      "palindrome number: 969\n",
      "palindrome number: 979\n",
      "palindrome number: 989\n",
      "palindrome number: 999\n"
     ]
    }
   ],
   "source": [
    "#8.Print all palindrome numbers between 1 to 1000.\n",
    "i=1\n",
    "for i in range(1000):\n",
    "    temp=i\n",
    "    r=0\n",
    "    while temp:\n",
    "        rem=temp%10\n",
    "        temp=temp//10\n",
    "        r=r*10+rem\n",
    "    if i==r:\n",
    "        print(\"palindrome number:\",i)\n",
    "    "
   ]
  },
  {
   "cell_type": "code",
   "execution_count": 9,
   "metadata": {},
   "outputs": [
    {
     "name": "stdout",
     "output_type": "stream",
     "text": [
      "enter number3\n",
      "Fizz\n"
     ]
    }
   ],
   "source": [
    "#10.\tWrite a Java program which iterates the integers from 1 to 100. For multiples of three print \"Fizz\" instead of the number and print \"Buzz\" for the multiples of five. When number is divided by both three and five, print \"fizz buzz\".\n",
    "n=int(input(\"enter number\"))\n",
    "if   n%3==0:\n",
    "    print(\"Fizz\")\n",
    "elif  n%5==0:\n",
    "         print(\"Buzz\")\n",
    "elif n%5==0 and n%3==0:\n",
    "         print(\"Fizz Buzz\")"
   ]
  },
  {
   "cell_type": "code",
   "execution_count": 8,
   "metadata": {},
   "outputs": [
    {
     "name": "stdout",
     "output_type": "stream",
     "text": [
      "enter type of seat:circle\n",
      "Payment mode:cash\n",
      "cost of ticket: 675.0\n"
     ]
    }
   ],
   "source": [
    "#3.A theater in Delhi wants to develop a computerized Booking System. The theater offers different types of seats. The Ticket rates are- Stalls- Rs. 625/-, Circle- Rs.750/-, Upper Class- Rs.850/- and Box- Rs.1000/-. A discount is given 10% of total amount if tickets are purchased on Cash. In case of credit card holders 5% discount is given. \n",
    "#Input: \tType of Seat: Circle    \n",
    "#Payment mode: cash\n",
    "#Output: Cost of ticket: 675\n",
    "a=input(\"enter type of seat:\")\n",
    "b=input(\"Payment mode:\")\n",
    "if  b==\"cash\":\n",
    "    if a==\"stalls\":\n",
    "        c=625-(625*0.1)\n",
    "    elif a==\"circle\":\n",
    "        c=750-(750*0.1)\n",
    "    elif a==\"Upperclass\":\n",
    "        c=850-(850*0.1)\n",
    "    else:\n",
    "        c=1000-(1000*0.1)\n",
    "else:\n",
    "    if a==\"stalls\":\n",
    "        c=625-(625*0.05)\n",
    "    elif a==\"circle\":\n",
    "        c=750-(750*0.05)\n",
    "    elif a==\"Upperclass\":\n",
    "        c=850-(850*0.05)\n",
    "    else:\n",
    "        c=1000-(1000*0.05)\n",
    "print(\"cost of ticket:\",c)\n",
    "    "
   ]
  },
  {
   "cell_type": "code",
   "execution_count": 1,
   "metadata": {},
   "outputs": [
    {
     "name": "stdout",
     "output_type": "stream",
     "text": [
      "0\n",
      "1\n",
      "153\n",
      "370\n",
      "371\n",
      "407\n"
     ]
    }
   ],
   "source": [
    "#9.Print all Armstrong numbers between 1 to 1000.\n",
    "i=1\n",
    "c=0\n",
    "for i in range(1000):\n",
    "    temp=i\n",
    "    sum=0\n",
    "    while temp!=0:\n",
    "        d=temp%10\n",
    "        c=d*d*d\n",
    "        sum=sum+c\n",
    "        temp=temp//10\n",
    "    \n",
    "    if sum==i:\n",
    "        print(i)"
   ]
  }
 ],
 "metadata": {
  "kernelspec": {
   "display_name": "Python 3",
   "language": "python",
   "name": "python3"
  },
  "language_info": {
   "codemirror_mode": {
    "name": "ipython",
    "version": 3
   },
   "file_extension": ".py",
   "mimetype": "text/x-python",
   "name": "python",
   "nbconvert_exporter": "python",
   "pygments_lexer": "ipython3",
   "version": "3.7.6"
  }
 },
 "nbformat": 4,
 "nbformat_minor": 4
}
